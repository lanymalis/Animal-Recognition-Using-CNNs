{
 "cells": [
  {
   "cell_type": "markdown",
   "id": "1a97eb1b",
   "metadata": {},
   "source": [
    "Name : Lany Malis\n",
    "<br>\n",
    "Class: ITE-A\n",
    "<br>\n",
    "Project: Animal Recognition"
   ]
  },
  {
   "cell_type": "markdown",
   "id": "b529d308",
   "metadata": {},
   "source": [
    "# Animal Recognition Using Convolutional Neural Networks"
   ]
  },
  {
   "cell_type": "markdown",
   "id": "7a552f0e",
   "metadata": {},
   "source": [
    "Animal Recognition is a project which recognize animal images by do predicting between the input images and the model images that has been trained with Machine learning algorithms. In this project, we implement one of the most popular machine learning algorithms is Convolutional Neural Networks. Convolutional Neural Networks is an algorithms which is specialized for Image recognition and Image classification. By using CNNs, we need to do several important steps such as Image transformation, Data Loading, Building Convolutional Neural Network Model, Training the Model and Saving the best model. To implement CNNs Algorithms, we use Pytorch Machine learning Framework to access the below library in purpose to implement CNNs conveniently."
   ]
  },
  {
   "cell_type": "markdown",
   "id": "559362f0",
   "metadata": {},
   "source": [
    "## 1. Libraries"
   ]
  },
  {
   "cell_type": "markdown",
   "id": "4607379f",
   "metadata": {},
   "source": [
    "- **os** : provide a way of using operating system depent functionality such as reading and writing to file system. \n",
    "- **numpy** : support for large, multi-dimensional arrays and matrices, along with a large collection of high-level mathematical functions to operate on these arrays.\n",
    "- **torch** : is opensource machine learning framework.\n",
    "- **glob** : is a module which provide ability to search for the file in the directory.\n",
    "- **torch.nn** : is module which provice the various neural network layer and loss function.\n",
    "- **transforms** : is a module which is able to do transformation on the images such as resizing, flipping, cropping, normalizing.\n",
    "- **DataLoader** : provide the ability to load and iterate through all the data including shuffling and batching.\n",
    "- **torchvision** : provide access to the model architecture such as CNNs architechture.\n",
    "- **torch.optim** : provide various optimiser to update the parameter while training.\n",
    "- **pathlib** : provide class which's accessible to working with file paths.\n",
    "- **matplotlib.pyplot** : provide the option to show the graph, pie, list."
   ]
  },
  {
   "cell_type": "code",
   "execution_count": 17,
   "id": "a5b15ba8",
   "metadata": {},
   "outputs": [],
   "source": [
    "import os\n",
    "import numpy as np\n",
    "import torch\n",
    "import glob\n",
    "import torch.nn as nn\n",
    "from torchvision.transforms import transforms\n",
    "from torch.utils.data import DataLoader\n",
    "from torch.autograd import Variable\n",
    "import torchvision\n",
    "import torch.optim as optim\n",
    "import pathlib \n",
    "import matplotlib.pyplot as plt\n",
    "%matplotlib inline "
   ]
  },
  {
   "cell_type": "markdown",
   "id": "5ce08cca",
   "metadata": {},
   "source": [
    "## 2. Checking Device"
   ]
  },
  {
   "cell_type": "markdown",
   "id": "b742929f",
   "metadata": {},
   "source": [
    "Using Pytorch is allowed to specify the device to perform computations for neural network model. Pytorch can run both CPUs and GPUs, but choosing the appropriate device can improve the performance of model."
   ]
  },
  {
   "cell_type": "code",
   "execution_count": 18,
   "id": "0bc97896",
   "metadata": {},
   "outputs": [],
   "source": [
    "#Checking Device if it is CPUs or GPUs (cuda)\n",
    "device = torch.device('cuda' if torch.cuda.is_available() else 'cpu')"
   ]
  },
  {
   "cell_type": "code",
   "execution_count": 19,
   "id": "439c50da",
   "metadata": {},
   "outputs": [
    {
     "name": "stdout",
     "output_type": "stream",
     "text": [
      "cpu\n"
     ]
    }
   ],
   "source": [
    "#Dislay device's type\n",
    "print(device)"
   ]
  },
  {
   "cell_type": "markdown",
   "id": "c9cbfabc",
   "metadata": {},
   "source": [
    "## 3. Image Transformation"
   ]
  },
  {
   "cell_type": "markdown",
   "id": "95e9aea8",
   "metadata": {},
   "source": [
    "Transforming images is to defines the input images's standard which will be fed to build the nueral network model for training. Image Transformation can improve the performance, robustness, and memory efficiency of the model.\n",
    "\n",
    "To ensure the accuracy are consistent and reproducible across different experiment, Performing Image transformation is required. \n",
    "\n",
    "Here are several steps of Image transformation:\n",
    "\n",
    "1. **Resizing** : All input images are required to be the same size in Neural networks in purpose to improve Memory efficiency, Computional efficiency, Compatibility and Performance.\n",
    "2. **Data augmentation (HorizontalFlip)** : is used to increase the size of the training dataset by applying a variety of transformations in purpose to improve the generalization of the model by exposing it to the wider range of input variations.\n",
    "3. **Normalization**: standardized images can enhance the performance of Neural networks and it helps to ensure that all input features have similar scale and range, which improve the convergence of model during training.\n",
    "   - By using Pytorch, transform.ToTensor is required to use for converting input image of size (Height, Width, Channels) to tensor format (Channels, Height, Width) and also for normalizing the pixel values of the input image to the range [0, 1] which improve the convergence of the model.\n",
    "   - Substracting the mean and divide by standard deviation of the input data is a common way. By this below normalizing, the pixel values will be in [-1, 1].\n"
   ]
  },
  {
   "cell_type": "code",
   "execution_count": 20,
   "id": "4d21790b",
   "metadata": {},
   "outputs": [],
   "source": [
    "#Transforms\n",
    "transformer = transforms.Compose([\n",
    "    transforms.Resize((100, 100)), \n",
    "    transforms.RandomHorizontalFlip(),\n",
    "    transforms.ToTensor(), #0-255 to 0-1, numpy to tensors form\n",
    "    transforms.Normalize([0.5, 0.5, 0.5], [0.5, 0.5, 0.5]) # 0-1 to [-1, 1], result = x-mean/standard deviation\n",
    "])"
   ]
  },
  {
   "cell_type": "markdown",
   "id": "5cdf0626",
   "metadata": {},
   "source": [
    "## 4. Data Loading"
   ]
  },
  {
   "cell_type": "markdown",
   "id": "408f9066",
   "metadata": {},
   "source": [
    "There are 3 steps for loading dataset to implement the algorithms such as:\n",
    "  1. **Determine the Path** : Determine the location of the Dataset in Device and it's acessible.\n",
    "<br>\n",
    "  2. **Loading Dataset** : In this, We load dataset by creating ImageFolder dataset class form torchvision.dataset module by destinate the directory (train_path) with transformimg the images using transform parameter which's holding the transformer function. Also, We control the loading by load 265 images at a time and we do shuffle to make our training more robustness and generalize.\n",
    "<br>\n",
    "  3. **Divide Dataset Categories** : First, we create the variable of pathlib to access the file. Second, we split the image of each category by slash '/' and retrieve all images in each folder. Last, we sort the name of each category by alphabet.  \n",
    " "
   ]
  },
  {
   "cell_type": "code",
   "execution_count": 21,
   "id": "43e60e49",
   "metadata": {},
   "outputs": [],
   "source": [
    "#Path for training and testing directory \n",
    "train_path = r'C:/Users/User/Desktop/Recognition/CatDog/training_set'\n",
    "test_path = r'C:/Users/User/Desktop/Recognition/CatDog/test_set'\n",
    "\n",
    "#Load training Dataset\n",
    "train_loader = DataLoader(\n",
    "    torchvision.datasets.ImageFolder(train_path, transform = transformer),\n",
    "    batch_size=256, shuffle=True\n",
    ")\n",
    "#Load Testing Dataset\n",
    "test_loader = DataLoader(\n",
    "    torchvision.datasets.ImageFolder(test_path, transform = transformer),\n",
    "    batch_size=256, shuffle=True  \n",
    ")"
   ]
  },
  {
   "cell_type": "code",
   "execution_count": 22,
   "id": "46928411",
   "metadata": {},
   "outputs": [],
   "source": [
    "#Categories\n",
    "root = pathlib.Path(train_path)\n",
    "classes=sorted([j.name.split('/')[-1] for j in root.iterdir()])"
   ]
  },
  {
   "cell_type": "code",
   "execution_count": 23,
   "id": "5d0685a1",
   "metadata": {},
   "outputs": [
    {
     "name": "stdout",
     "output_type": "stream",
     "text": [
      "['cats', 'dogs']\n"
     ]
    }
   ],
   "source": [
    "#Display the categories \n",
    "print(classes)"
   ]
  },
  {
   "cell_type": "markdown",
   "id": "575eea95",
   "metadata": {},
   "source": [
    "## 5. Define Convolutional Neural Networks Model"
   ]
  },
  {
   "cell_type": "markdown",
   "id": "514381a2",
   "metadata": {},
   "source": [
    "Creating ConvNet subclass of nn.Module class is essential for establishing the neural network architecture.\n",
    "\n",
    "In below block, There are only 2 Methods ConvNet class:\n",
    "<br>\n",
    "1. **__init__** : is a default constructor method which's created when instance of ConvNet is called. In this ConvNet Architecture, There are 5 layers of Convolutional Neural Networks such as:\n",
    "<br>\n",
    "  - *First Convolutional Layers* : is responsible for extracting the most basic feature, reduce dimensonality of image and create feature map by  taking 3 colors channel image, using 12 filters with size of 3*3 pixels filter, using padding 1 to make the output size is as same as input size, and using stride 1 (same stride) to move by 1 pixels. Also, BatchNorm2d calculates the mean and variance of the activations within each channel across the mini-batch in purpose to capture different features in detail. As well as, we use Relu to get the result output in tensor format which the negative value will set to 0.\n",
    "<br>\n",
    "  - *Pooling Layer* : is used for reduce the image size, computational cost and enhances features. Also, we reduce the image size by factor by 2. \n",
    "<br>\n",
    "  - *Second Convolutional Layer* \n",
    "  - *Third Convolutional Layer* \n",
    "<br>\n",
    "  - *Fully Connected Layer* : is used to classifies the output of each category and associate features to a particular label. \n",
    "<br>\n",
    "2. **Forward Function** : is used for specify the input data flow through the network layers to get the final output.\n"
   ]
  },
  {
   "cell_type": "code",
   "execution_count": 31,
   "id": "5f6ad7bc",
   "metadata": {},
   "outputs": [],
   "source": [
    "#CNN Network\n",
    "class ConvNet(nn.Module):\n",
    "    def __init__(self, num_classes=2):\n",
    "        \n",
    "        #Constructor of parent classes\n",
    "        super(ConvNet, self).__init__()\n",
    "        \n",
    "        #Output size after convolution filter\n",
    "        #((w-f+2P)/s)+1\n",
    "        \n",
    "        #Input shape= (256,3, 100, 100)\n",
    "        \n",
    "        #Convolutional Layers\n",
    "        self.conv1=nn.Conv2d(in_channels=3, out_channels=12, kernel_size=3, stride=1, padding=1)\n",
    "           #Shape=(256, 12, 100, 100)\n",
    "        self.bn1=nn.BatchNorm2d(num_features=12)\n",
    "           #Shape=(256, 12, 100, 100)\n",
    "        self.relu1=nn.ReLU()\n",
    "           #Shape=(256, 12, 100, 100)\n",
    "        \n",
    "        #Pooling Layer\n",
    "        self.pool=nn.MaxPool2d(kernel_size=2)\n",
    "          #Reduce the image size be factor 2\n",
    "          #Shape=(256, 12, 50, 50)\n",
    "        \n",
    "        #Second Convolutional Layers\n",
    "        self.conv2=nn.Conv2d(in_channels=12, out_channels=20, kernel_size=3, stride=1, padding=1)\n",
    "          #Shape=(256, 20, 50, 50)\n",
    "        self.relu2=nn.ReLU()\n",
    "          #Shape=(256, 20, 50, 50)\n",
    "        \n",
    "        #Third Convolutional Layers\n",
    "        self.conv3=nn.Conv2d(in_channels=20, out_channels=32, kernel_size=3, stride=1, padding=1)\n",
    "          #Shape=(256, 32, 50, 50)\n",
    "        self.bn3=nn.BatchNorm2d(num_features=32)\n",
    "          #Shape=(256, 32, 50, 50)\n",
    "        self.relu3=nn.ReLU()\n",
    "          #Shape=(256, 32, 50, 50)\n",
    "            \n",
    "        #Fully Connected Layer\n",
    "        self.fc=nn.Linear(in_features=32*50*50, out_features=num_classes)\n",
    "        \n",
    "    #Feed forward function\n",
    "    def forward(self, input):\n",
    "        #Output of First Convolutional layer\n",
    "        output=self.conv1(input)\n",
    "        output=self.bn1(output)\n",
    "        output=self.relu1(output)\n",
    "        #Output of Maxpooling layer\n",
    "        output=self.pool(output)\n",
    "        \n",
    "        #Output of Second Convolutional Layer\n",
    "        output=self.conv2(output)\n",
    "        ouput=self.relu2(output)\n",
    "        #Output of Third Convolutional Layer\n",
    "        output=self.conv3(output)\n",
    "        output=self.bn3(output)\n",
    "        output=self.relu3(output)\n",
    "\n",
    "        #Above output will be in matrix form, with shape(256, 32, 50, 50)\n",
    "        output=output.view(-1, 32*50*50)\n",
    "        #Output of Fully-Connected Layers\n",
    "        output=self.fc(output)\n",
    "\n",
    "        #Return Final Output Feature\n",
    "        return output\n",
    "   "
   ]
  },
  {
   "cell_type": "markdown",
   "id": "5fd508de",
   "metadata": {},
   "source": [
    "- Create the object of ConvNet class and specify the device "
   ]
  },
  {
   "cell_type": "code",
   "execution_count": 32,
   "id": "9b640ece",
   "metadata": {},
   "outputs": [],
   "source": [
    "#Creates an instance of the ConvNet class \n",
    "model=ConvNet(num_classes=2).to(device)"
   ]
  },
  {
   "cell_type": "markdown",
   "id": "035f6c44",
   "metadata": {},
   "source": [
    "- Optimiser is responsible for updating the parameters of the model during the training process by learning rate = 0.001 which determine the step size in each update and weight_decay = 0.0001 to minimize the Model weight to loss which cause overfitting."
   ]
  },
  {
   "cell_type": "code",
   "execution_count": 33,
   "id": "c5a80919",
   "metadata": {},
   "outputs": [],
   "source": [
    "#Optimizer\n",
    "optimizer=optim.Adam(model.parameters(), lr=0.001, weight_decay=0.0001)\n",
    "loss_function=nn.CrossEntropyLoss()"
   ]
  },
  {
   "cell_type": "markdown",
   "id": "5a193491",
   "metadata": {},
   "source": [
    "- Assign epoch number for determine the number of the model will train passes over the entire training dataset."
   ]
  },
  {
   "cell_type": "code",
   "execution_count": 34,
   "id": "6eaf019e",
   "metadata": {},
   "outputs": [],
   "source": [
    "#Assign epochs's value\n",
    "num_epochs=10"
   ]
  },
  {
   "cell_type": "markdown",
   "id": "54dcbab9",
   "metadata": {},
   "source": [
    "- Counting the number of image in each train folder and test folder."
   ]
  },
  {
   "cell_type": "code",
   "execution_count": 35,
   "id": "68213d0f",
   "metadata": {},
   "outputs": [],
   "source": [
    "#Calculating the size of training and testing images\n",
    "train_count=len(glob.glob(train_path+ '/**/*.jpg'))\n",
    "test_count=len(glob.glob(test_path+ '/**/*.jpg'))"
   ]
  },
  {
   "cell_type": "code",
   "execution_count": 36,
   "id": "ad7b3859",
   "metadata": {},
   "outputs": [
    {
     "name": "stdout",
     "output_type": "stream",
     "text": [
      "8005 2023\n"
     ]
    }
   ],
   "source": [
    "#Display total of train's image and total of test's image\n",
    "print(train_count, test_count)"
   ]
  },
  {
   "cell_type": "markdown",
   "id": "1af0228f",
   "metadata": {},
   "source": [
    "## 6. Training Model and Saving"
   ]
  },
  {
   "cell_type": "markdown",
   "id": "25eba1e6",
   "metadata": {},
   "source": [
    "In this training Model section, Our objective is to do the prediction between the images and label which images is taken to process by ConvNet Module and labels get after do Image Transformation. Then we do compare between the prediction output and expecting output and calculate the total train_loss, train_accuracy, test_accuracy, and its total averages. We do iterating in 10 epoch. Last, we go through all the result in 10 epoch and saving the best Model."
   ]
  },
  {
   "cell_type": "code",
   "execution_count": 37,
   "id": "e56f1168",
   "metadata": {},
   "outputs": [
    {
     "name": "stdout",
     "output_type": "stream",
     "text": [
      "Epoch: 0 Train Loss: 3 Train Accuracy: 0.5703935040599625 Test Accuracy: 0.6243203163618388\n",
      "Epoch: 1 Train Loss: 0 Train Accuracy: 0.6833229231730169 Test Accuracy: 0.6534849233811172\n",
      "Epoch: 2 Train Loss: 0 Train Accuracy: 0.758525921299188 Test Accuracy: 0.7256549678695008\n",
      "Epoch: 3 Train Loss: 0 Train Accuracy: 0.7735165521549032 Test Accuracy: 0.7251606524962926\n",
      "Epoch: 4 Train Loss: 0 Train Accuracy: 0.8116177389131792 Test Accuracy: 0.7355412753336629\n",
      "Epoch: 5 Train Loss: 0 Train Accuracy: 0.8387257963772642 Test Accuracy: 0.6856154226396441\n",
      "Epoch: 6 Train Loss: 0 Train Accuracy: 0.8194878201124297 Test Accuracy: 0.7296094908551656\n",
      "Epoch: 7 Train Loss: 0 Train Accuracy: 0.8539662710805747 Test Accuracy: 0.7192288680177954\n",
      "Epoch: 8 Train Loss: 0 Train Accuracy: 0.8356027482823235 Test Accuracy: 0.708353929807217\n",
      "Epoch: 9 Train Loss: 0 Train Accuracy: 0.875577763897564 Test Accuracy: 0.7009391992090954\n"
     ]
    }
   ],
   "source": [
    "#Model training and saving the best model\n",
    "\n",
    "best_accuracy=0.0\n",
    "train_result = []\n",
    "test_result = []\n",
    "\n",
    "for epoch in range(num_epochs):\n",
    "    \n",
    "    #Evaluation and training on training dataset\n",
    "    model.train()\n",
    "    train_accuracy=0.0\n",
    "    train_loss=0.0\n",
    "    \n",
    "    #Loop through the trian loading image \n",
    "    for i, (images, labels) in enumerate(train_loader):\n",
    "        #if GPUs is available, move images and labels to device\n",
    "        if device:\n",
    "            images=Variable(images.to(device))\n",
    "            labels=Variable(labels.to(device))\n",
    "        #Clear the Gradient \n",
    "        #Gradients need to be cleared before computing the gradients for the current batch to avoid accumulating gradients from previous batches\n",
    "        optimizer.zero_grad()\n",
    "        \n",
    "        #Passing images to model to obtain the predicted outputs\n",
    "        outputs=model(images)\n",
    "        \n",
    "        #Calculate the loss between the outputs(ConvNet Output) and labels (Transform Output)\n",
    "        loss=loss_function(outputs, labels)\n",
    "        #performs backpropagation to compute the gradients of the loss with respect to the model's parameters\n",
    "        loss.backward()\n",
    "        #Update the gradients computed in the previous step\n",
    "        optimizer.step()\n",
    "        #Sum all the loss in the current batch and multiple with the images size to find the average of training lost\n",
    "        train_loss+= loss.cpu().data*images.size(0)\n",
    "        \n",
    "        #Find predicted label by finding the maximum value along second dimension (row)\n",
    "        _,prediction=torch.max(outputs.data, 1)\n",
    "        #Sum the matched prediction and labels\n",
    "        train_accuracy+= int(torch.sum(prediction==labels.data))\n",
    "        \n",
    "        \n",
    "    #Calculate train_accuracy and train_loss by using train_count\n",
    "    train_accuracy=train_accuracy/train_count\n",
    "    train_loss=train_loss/train_count\n",
    "    train_result.append(train_accuracy)\n",
    "    \n",
    "    #Evaluation on testing dataset\n",
    "    model.eval()\n",
    "    \n",
    "    #Testing accuracy\n",
    "    test_accuracy=0.0\n",
    "    for i, (images, labels) in enumerate(test_loader):\n",
    "        #Checking the device if GPUs is availbale, move to Gpu\n",
    "        if device:\n",
    "            images=Variable(images.to(device))\n",
    "            labels=Variable(labels.to(device))\n",
    "        #Make a prediction by finding the maximum value along second dimension (row)\n",
    "        outputs=model(images)\n",
    "        _,prediction=torch.max(outputs.data, 1)\n",
    "        #Sum the testing that prediction match with labels\n",
    "        test_accuracy+=int(torch.sum(prediction==labels.data))\n",
    "    \n",
    "    #Calculate average test accuracy \n",
    "    test_accuracy=test_accuracy/test_count\n",
    "    test_result.append(test_accuracy)\n",
    "    \n",
    "    #Display Train Loss, Train Accuracy, Test Accuracy in each Epoch \n",
    "    print('Epoch: ' +str(epoch)+ ' Train Loss: ' +str(int(train_loss))+ ' Train Accuracy: ' + str(train_accuracy)+ ' Test Accuracy: ' + str(test_accuracy))\n",
    "    \n",
    "    #Iterate through all the test accuracy in each epoch and save the best one\n",
    "    if test_accuracy>best_accuracy:\n",
    "        torch.save(model.state_dict(), 'best_checkpoint.model')\n",
    "        best_accuracy=test_accuracy\n",
    "    "
   ]
  },
  {
   "cell_type": "markdown",
   "id": "c5303cb2",
   "metadata": {},
   "source": [
    "## 7. Conclusion"
   ]
  },
  {
   "cell_type": "markdown",
   "id": "f1a70662",
   "metadata": {},
   "source": [
    "Through this implement, We finally get the maximum around 87 percentage of training accuracy and 73 percentages of test accuracy. "
   ]
  },
  {
   "cell_type": "code",
   "execution_count": 86,
   "id": "919539a4",
   "metadata": {},
   "outputs": [
    {
     "data": {
      "text/plain": [
       "<matplotlib.legend.Legend at 0x12a129db160>"
      ]
     },
     "execution_count": 86,
     "metadata": {},
     "output_type": "execute_result"
    },
    {
     "data": {
      "image/png": "[encoded data removed]",
      "text/plain": [
       "<Figure size 700x500 with 1 Axes>"
      ]
     },
     "metadata": {},
     "output_type": "display_data"
    }
   ],
   "source": [
    "x = [0, 1, 2, 3, 4, 5, 6, 7, 8, 9]\n",
    "fig = plt.figure(figsize = (7,5))\n",
    "ax = fig.add_axes([0,0,1,1])\n",
    "ax.set_title('Animal Recognition Using CNNs Result', fontsize = 14)\n",
    "ax.set_xlabel('Epoch', fontsize = 12)\n",
    "ax.set_ylabel('Average Accuracy', fontsize = 12)\n",
    "plt.xlim(-0.1, 9.1)\n",
    "plt.plot(x, train_result, '-.gs', label = 'Training Result')\n",
    "plt.plot(x, test_result,'-.rs', label = 'Testing Result')\n",
    "\n",
    "ax.legend()"
   ]
  },
  {
   "cell_type": "markdown",
   "id": "1e335ab4",
   "metadata": {},
   "source": [
    "### Reference"
   ]
  },
  {
   "cell_type": "markdown",
   "id": "995f2882",
   "metadata": {},
   "source": [
    "\n",
    "-Covolutional Neural Network: https://en.wikipedia.org/wiki/Convolutional_neural_network\n",
    "<br>\n",
    "-Pytorch Machine Learning Framework: https://en.wikipedia.org/wiki/PyTorch\n",
    "<br>\n",
    "-Pytorch's Module : https://pytorch.org/docs/stable/generated/torch.max.html\n",
    "<br>\n",
    "-Resize Image: https://keras.io/examples/vision/learnable_resizer/\n",
    "<br>\n",
    "-Data Loader:  https://youtu.be/eGch5tZry84 \n",
    "<br>\n",
    "-Batch Normalization:  https://youtu.be/DtEq44FTPM4\n",
    "<br>\n",
    "-Stride : https://youtu.be/lxk_nmpqI5M\n",
    "<br>\n",
    "-Padding : https://youtu.be/-1xVmU8Z6Bs\n",
    "<br>\n",
    "-Max Pooling layers: https://youtu.be/zg_AA3fZpE0\n",
    "<br>\n",
    "-Fully Connected layers: https://youtu.be/rxSmwM7z0_4\n",
    "<br>\n",
    "-CNNs Architecture: https://youtu.be/VF4BDE7uqY0\n",
    "<br>\n",
    "-Image Classification: https://youtu.be/9OHlgDjaE2I \n",
    "<br>\n",
    "-Image Inference: https://youtu.be/zwHSQrNVNNE\n",
    "<br>\n"
   ]
  }
 ],
 "metadata": {
  "kernelspec": {
   "display_name": "Python 3 (ipykernel)",
   "language": "python",
   "name": "python3"
  },
  "language_info": {
   "codemirror_mode": {
    "name": "ipython",
    "version": 3
   },
   "file_extension": ".py",
   "mimetype": "text/x-python",
   "name": "python",
   "nbconvert_exporter": "python",
   "pygments_lexer": "ipython3",
   "version": "3.10.9"
  }
 },
 "nbformat": 4,
 "nbformat_minor": 5
}
